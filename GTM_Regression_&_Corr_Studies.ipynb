{
  "nbformat": 4,
  "nbformat_minor": 0,
  "metadata": {
    "colab": {
      "provenance": [],
      "authorship_tag": "ABX9TyNi7R6QCZ/hv1W9rvYDoEAF",
      "include_colab_link": true
    },
    "kernelspec": {
      "name": "python3",
      "display_name": "Python 3"
    },
    "language_info": {
      "name": "python"
    }
  },
  "cells": [
    {
      "cell_type": "markdown",
      "metadata": {
        "id": "view-in-github",
        "colab_type": "text"
      },
      "source": [
        "<a href=\"https://colab.research.google.com/github/ViniciusARZ/Machine-Learning-Analytics/blob/main/GTM_Regression_%26_Corr_Studies.ipynb\" target=\"_parent\"><img src=\"https://colab.research.google.com/assets/colab-badge.svg\" alt=\"Open In Colab\"/></a>"
      ]
    },
    {
      "cell_type": "markdown",
      "source": [
        "# Account to SQL Lin Reg"
      ],
      "metadata": {
        "id": "02saKCo7RQVc"
      }
    },
    {
      "cell_type": "code",
      "source": [
        "# Getting internal API Token \n",
        "import requests\n",
        "res = requests.post('https://metabase.slangapp.com/api/session', \n",
        "                    headers = {\"Content-Type\": \"application/json\"},\n",
        "                    json =  {\"username\": \"v.ramos@slangapp.com\", \n",
        "                             \"password\": \"Corepride17*\"}\n",
        "                   )\n",
        "assert res.ok == True\n",
        "token = res.json()['id']\n",
        "## Card / Query\n",
        "import pandas as pd\n",
        "res = requests.get('https://metabase.slangapp.com/api/card', \n",
        "              headers = {'Content-Type': 'application/json',\n",
        "                        'X-Metabase-Session': token\n",
        "                        }\n",
        "            )\n",
        "res.json()"
      ],
      "metadata": {
        "id": "-DSs6aITHzg8"
      },
      "execution_count": null,
      "outputs": []
    },
    {
      "cell_type": "code",
      "source": [
        "res = requests.get('https://metabase.slangapp.com/api/card', \n",
        "              headers = {'Content-Type': 'application/json',\n",
        "                        'X-Metabase-Session': token\n",
        "                        }\n",
        "            )\n",
        "res.json()"
      ],
      "metadata": {
        "id": "ZFbORqPCJgBd"
      },
      "execution_count": null,
      "outputs": []
    },
    {
      "cell_type": "code",
      "source": [
        "import pandas as pd\n",
        "res = requests.post('https://metabase.slangapp.com/api/card/1957/query/json', ## ACCOUNT TO SQL 3 MONTH ROLL AVG\n",
        "              headers = {'Content-Type': 'application/json',\n",
        "                        'X-Metabase-Session': token\n",
        "                        }\n",
        "            )\n",
        "df = pd.DataFrame(res.json())\n",
        "df"
      ],
      "metadata": {
        "colab": {
          "base_uri": "https://localhost:8080/",
          "height": 676
        },
        "id": "2lcquzZoJPZW",
        "outputId": "fb0b262a-83da-4b0d-c94b-18718bdaeec1"
      },
      "execution_count": null,
      "outputs": [
        {
          "output_type": "execute_result",
          "data": {
            "text/plain": [
              "     SQL MONTH  SENT MONTH   SQLs  Accounts Sent  Account to SQL  Rol Avg 3\n",
              "0   2021-01-01  2021-01-01   31.0           1462             NaN        NaN\n",
              "1   2021-02-01  2021-02-01   59.0           2054        0.040356   0.040356\n",
              "2   2021-03-01  2021-03-01   81.0           2892        0.039435   0.039895\n",
              "3   2021-04-01  2021-04-01   85.0           2599        0.029391   0.036394\n",
              "4   2021-05-01  2021-05-01   94.0           2978        0.036168   0.034998\n",
              "5   2021-06-01  2021-06-01  102.0           2694        0.034251   0.033270\n",
              "6   2021-07-01  2021-07-01   85.0           2433        0.031552   0.033990\n",
              "7   2021-08-01  2021-08-01   90.0           3669        0.036991   0.034265\n",
              "8   2021-09-01  2021-09-01  104.0           2987        0.028346   0.032296\n",
              "9   2021-10-01  2021-10-01  115.0           2861        0.038500   0.034612\n",
              "10  2021-11-01  2021-11-01  110.0           3521        0.038448   0.035098\n",
              "11  2021-12-01  2021-12-01   74.0           2591        0.021017   0.032655\n",
              "12  2022-01-01  2022-01-01  114.0           3200        0.043998   0.034488\n",
              "13  2022-02-01  2022-02-01  116.0           3215        0.036250   0.033755\n",
              "14  2022-03-01  2022-03-01  116.0           3800        0.036081   0.038776\n",
              "15  2022-04-01  2022-04-01   73.0           2510        0.019211   0.030514\n",
              "16  2022-05-01  2022-05-01   96.0           2907        0.038247   0.031179\n",
              "17  2022-06-01  2022-06-01  106.0           3636        0.036464   0.031307\n",
              "18  2022-07-01  2022-07-01  131.0           3070        0.036029   0.036913\n",
              "19  2022-08-01  2022-08-01  121.0           2324        0.039414   0.037302"
            ],
            "text/html": [
              "\n",
              "  <div id=\"df-3cc3ef72-e30a-4501-a1b6-a8f2d0055f89\">\n",
              "    <div class=\"colab-df-container\">\n",
              "      <div>\n",
              "<style scoped>\n",
              "    .dataframe tbody tr th:only-of-type {\n",
              "        vertical-align: middle;\n",
              "    }\n",
              "\n",
              "    .dataframe tbody tr th {\n",
              "        vertical-align: top;\n",
              "    }\n",
              "\n",
              "    .dataframe thead th {\n",
              "        text-align: right;\n",
              "    }\n",
              "</style>\n",
              "<table border=\"1\" class=\"dataframe\">\n",
              "  <thead>\n",
              "    <tr style=\"text-align: right;\">\n",
              "      <th></th>\n",
              "      <th>SQL MONTH</th>\n",
              "      <th>SENT MONTH</th>\n",
              "      <th>SQLs</th>\n",
              "      <th>Accounts Sent</th>\n",
              "      <th>Account to SQL</th>\n",
              "      <th>Rol Avg 3</th>\n",
              "    </tr>\n",
              "  </thead>\n",
              "  <tbody>\n",
              "    <tr>\n",
              "      <th>0</th>\n",
              "      <td>2021-01-01</td>\n",
              "      <td>2021-01-01</td>\n",
              "      <td>31.0</td>\n",
              "      <td>1462</td>\n",
              "      <td>NaN</td>\n",
              "      <td>NaN</td>\n",
              "    </tr>\n",
              "    <tr>\n",
              "      <th>1</th>\n",
              "      <td>2021-02-01</td>\n",
              "      <td>2021-02-01</td>\n",
              "      <td>59.0</td>\n",
              "      <td>2054</td>\n",
              "      <td>0.040356</td>\n",
              "      <td>0.040356</td>\n",
              "    </tr>\n",
              "    <tr>\n",
              "      <th>2</th>\n",
              "      <td>2021-03-01</td>\n",
              "      <td>2021-03-01</td>\n",
              "      <td>81.0</td>\n",
              "      <td>2892</td>\n",
              "      <td>0.039435</td>\n",
              "      <td>0.039895</td>\n",
              "    </tr>\n",
              "    <tr>\n",
              "      <th>3</th>\n",
              "      <td>2021-04-01</td>\n",
              "      <td>2021-04-01</td>\n",
              "      <td>85.0</td>\n",
              "      <td>2599</td>\n",
              "      <td>0.029391</td>\n",
              "      <td>0.036394</td>\n",
              "    </tr>\n",
              "    <tr>\n",
              "      <th>4</th>\n",
              "      <td>2021-05-01</td>\n",
              "      <td>2021-05-01</td>\n",
              "      <td>94.0</td>\n",
              "      <td>2978</td>\n",
              "      <td>0.036168</td>\n",
              "      <td>0.034998</td>\n",
              "    </tr>\n",
              "    <tr>\n",
              "      <th>5</th>\n",
              "      <td>2021-06-01</td>\n",
              "      <td>2021-06-01</td>\n",
              "      <td>102.0</td>\n",
              "      <td>2694</td>\n",
              "      <td>0.034251</td>\n",
              "      <td>0.033270</td>\n",
              "    </tr>\n",
              "    <tr>\n",
              "      <th>6</th>\n",
              "      <td>2021-07-01</td>\n",
              "      <td>2021-07-01</td>\n",
              "      <td>85.0</td>\n",
              "      <td>2433</td>\n",
              "      <td>0.031552</td>\n",
              "      <td>0.033990</td>\n",
              "    </tr>\n",
              "    <tr>\n",
              "      <th>7</th>\n",
              "      <td>2021-08-01</td>\n",
              "      <td>2021-08-01</td>\n",
              "      <td>90.0</td>\n",
              "      <td>3669</td>\n",
              "      <td>0.036991</td>\n",
              "      <td>0.034265</td>\n",
              "    </tr>\n",
              "    <tr>\n",
              "      <th>8</th>\n",
              "      <td>2021-09-01</td>\n",
              "      <td>2021-09-01</td>\n",
              "      <td>104.0</td>\n",
              "      <td>2987</td>\n",
              "      <td>0.028346</td>\n",
              "      <td>0.032296</td>\n",
              "    </tr>\n",
              "    <tr>\n",
              "      <th>9</th>\n",
              "      <td>2021-10-01</td>\n",
              "      <td>2021-10-01</td>\n",
              "      <td>115.0</td>\n",
              "      <td>2861</td>\n",
              "      <td>0.038500</td>\n",
              "      <td>0.034612</td>\n",
              "    </tr>\n",
              "    <tr>\n",
              "      <th>10</th>\n",
              "      <td>2021-11-01</td>\n",
              "      <td>2021-11-01</td>\n",
              "      <td>110.0</td>\n",
              "      <td>3521</td>\n",
              "      <td>0.038448</td>\n",
              "      <td>0.035098</td>\n",
              "    </tr>\n",
              "    <tr>\n",
              "      <th>11</th>\n",
              "      <td>2021-12-01</td>\n",
              "      <td>2021-12-01</td>\n",
              "      <td>74.0</td>\n",
              "      <td>2591</td>\n",
              "      <td>0.021017</td>\n",
              "      <td>0.032655</td>\n",
              "    </tr>\n",
              "    <tr>\n",
              "      <th>12</th>\n",
              "      <td>2022-01-01</td>\n",
              "      <td>2022-01-01</td>\n",
              "      <td>114.0</td>\n",
              "      <td>3200</td>\n",
              "      <td>0.043998</td>\n",
              "      <td>0.034488</td>\n",
              "    </tr>\n",
              "    <tr>\n",
              "      <th>13</th>\n",
              "      <td>2022-02-01</td>\n",
              "      <td>2022-02-01</td>\n",
              "      <td>116.0</td>\n",
              "      <td>3215</td>\n",
              "      <td>0.036250</td>\n",
              "      <td>0.033755</td>\n",
              "    </tr>\n",
              "    <tr>\n",
              "      <th>14</th>\n",
              "      <td>2022-03-01</td>\n",
              "      <td>2022-03-01</td>\n",
              "      <td>116.0</td>\n",
              "      <td>3800</td>\n",
              "      <td>0.036081</td>\n",
              "      <td>0.038776</td>\n",
              "    </tr>\n",
              "    <tr>\n",
              "      <th>15</th>\n",
              "      <td>2022-04-01</td>\n",
              "      <td>2022-04-01</td>\n",
              "      <td>73.0</td>\n",
              "      <td>2510</td>\n",
              "      <td>0.019211</td>\n",
              "      <td>0.030514</td>\n",
              "    </tr>\n",
              "    <tr>\n",
              "      <th>16</th>\n",
              "      <td>2022-05-01</td>\n",
              "      <td>2022-05-01</td>\n",
              "      <td>96.0</td>\n",
              "      <td>2907</td>\n",
              "      <td>0.038247</td>\n",
              "      <td>0.031179</td>\n",
              "    </tr>\n",
              "    <tr>\n",
              "      <th>17</th>\n",
              "      <td>2022-06-01</td>\n",
              "      <td>2022-06-01</td>\n",
              "      <td>106.0</td>\n",
              "      <td>3636</td>\n",
              "      <td>0.036464</td>\n",
              "      <td>0.031307</td>\n",
              "    </tr>\n",
              "    <tr>\n",
              "      <th>18</th>\n",
              "      <td>2022-07-01</td>\n",
              "      <td>2022-07-01</td>\n",
              "      <td>131.0</td>\n",
              "      <td>3070</td>\n",
              "      <td>0.036029</td>\n",
              "      <td>0.036913</td>\n",
              "    </tr>\n",
              "    <tr>\n",
              "      <th>19</th>\n",
              "      <td>2022-08-01</td>\n",
              "      <td>2022-08-01</td>\n",
              "      <td>121.0</td>\n",
              "      <td>2324</td>\n",
              "      <td>0.039414</td>\n",
              "      <td>0.037302</td>\n",
              "    </tr>\n",
              "  </tbody>\n",
              "</table>\n",
              "</div>\n",
              "      <button class=\"colab-df-convert\" onclick=\"convertToInteractive('df-3cc3ef72-e30a-4501-a1b6-a8f2d0055f89')\"\n",
              "              title=\"Convert this dataframe to an interactive table.\"\n",
              "              style=\"display:none;\">\n",
              "        \n",
              "  <svg xmlns=\"http://www.w3.org/2000/svg\" height=\"24px\"viewBox=\"0 0 24 24\"\n",
              "       width=\"24px\">\n",
              "    <path d=\"M0 0h24v24H0V0z\" fill=\"none\"/>\n",
              "    <path d=\"M18.56 5.44l.94 2.06.94-2.06 2.06-.94-2.06-.94-.94-2.06-.94 2.06-2.06.94zm-11 1L8.5 8.5l.94-2.06 2.06-.94-2.06-.94L8.5 2.5l-.94 2.06-2.06.94zm10 10l.94 2.06.94-2.06 2.06-.94-2.06-.94-.94-2.06-.94 2.06-2.06.94z\"/><path d=\"M17.41 7.96l-1.37-1.37c-.4-.4-.92-.59-1.43-.59-.52 0-1.04.2-1.43.59L10.3 9.45l-7.72 7.72c-.78.78-.78 2.05 0 2.83L4 21.41c.39.39.9.59 1.41.59.51 0 1.02-.2 1.41-.59l7.78-7.78 2.81-2.81c.8-.78.8-2.07 0-2.86zM5.41 20L4 18.59l7.72-7.72 1.47 1.35L5.41 20z\"/>\n",
              "  </svg>\n",
              "      </button>\n",
              "      \n",
              "  <style>\n",
              "    .colab-df-container {\n",
              "      display:flex;\n",
              "      flex-wrap:wrap;\n",
              "      gap: 12px;\n",
              "    }\n",
              "\n",
              "    .colab-df-convert {\n",
              "      background-color: #E8F0FE;\n",
              "      border: none;\n",
              "      border-radius: 50%;\n",
              "      cursor: pointer;\n",
              "      display: none;\n",
              "      fill: #1967D2;\n",
              "      height: 32px;\n",
              "      padding: 0 0 0 0;\n",
              "      width: 32px;\n",
              "    }\n",
              "\n",
              "    .colab-df-convert:hover {\n",
              "      background-color: #E2EBFA;\n",
              "      box-shadow: 0px 1px 2px rgba(60, 64, 67, 0.3), 0px 1px 3px 1px rgba(60, 64, 67, 0.15);\n",
              "      fill: #174EA6;\n",
              "    }\n",
              "\n",
              "    [theme=dark] .colab-df-convert {\n",
              "      background-color: #3B4455;\n",
              "      fill: #D2E3FC;\n",
              "    }\n",
              "\n",
              "    [theme=dark] .colab-df-convert:hover {\n",
              "      background-color: #434B5C;\n",
              "      box-shadow: 0px 1px 3px 1px rgba(0, 0, 0, 0.15);\n",
              "      filter: drop-shadow(0px 1px 2px rgba(0, 0, 0, 0.3));\n",
              "      fill: #FFFFFF;\n",
              "    }\n",
              "  </style>\n",
              "\n",
              "      <script>\n",
              "        const buttonEl =\n",
              "          document.querySelector('#df-3cc3ef72-e30a-4501-a1b6-a8f2d0055f89 button.colab-df-convert');\n",
              "        buttonEl.style.display =\n",
              "          google.colab.kernel.accessAllowed ? 'block' : 'none';\n",
              "\n",
              "        async function convertToInteractive(key) {\n",
              "          const element = document.querySelector('#df-3cc3ef72-e30a-4501-a1b6-a8f2d0055f89');\n",
              "          const dataTable =\n",
              "            await google.colab.kernel.invokeFunction('convertToInteractive',\n",
              "                                                     [key], {});\n",
              "          if (!dataTable) return;\n",
              "\n",
              "          const docLinkHtml = 'Like what you see? Visit the ' +\n",
              "            '<a target=\"_blank\" href=https://colab.research.google.com/notebooks/data_table.ipynb>data table notebook</a>'\n",
              "            + ' to learn more about interactive tables.';\n",
              "          element.innerHTML = '';\n",
              "          dataTable['output_type'] = 'display_data';\n",
              "          await google.colab.output.renderOutput(dataTable, element);\n",
              "          const docLink = document.createElement('div');\n",
              "          docLink.innerHTML = docLinkHtml;\n",
              "          element.appendChild(docLink);\n",
              "        }\n",
              "      </script>\n",
              "    </div>\n",
              "  </div>\n",
              "  "
            ]
          },
          "metadata": {},
          "execution_count": 11
        }
      ]
    },
    {
      "cell_type": "code",
      "source": [
        "import numpy as np\n",
        "import pandas as pd\n",
        "import matplotlib.pyplot as plt\n",
        "import seaborn as sns\n",
        "plt.scatter(df[\"Accounts Sent\"],df[\"SQLs\"],color='red')"
      ],
      "metadata": {
        "colab": {
          "base_uri": "https://localhost:8080/",
          "height": 283
        },
        "id": "M8UflwfbLXbo",
        "outputId": "76b96195-cc37-4822-f976-fb277975c9f4"
      },
      "execution_count": null,
      "outputs": [
        {
          "output_type": "execute_result",
          "data": {
            "text/plain": [
              "<matplotlib.collections.PathCollection at 0x7f6d48172f50>"
            ]
          },
          "metadata": {},
          "execution_count": 14
        },
        {
          "output_type": "display_data",
          "data": {
            "text/plain": [
              "<Figure size 432x288 with 1 Axes>"
            ],
            "image/png": "[encoded data removed]"
          },
          "metadata": {
            "needs_background": "light"
          }
        }
      ]
    },
    {
      "cell_type": "code",
      "source": [
        "df[[\"Accounts Sent\",\"SQLs\"]].hist()"
      ],
      "metadata": {
        "colab": {
          "base_uri": "https://localhost:8080/",
          "height": 336
        },
        "id": "A092aux_O4Y2",
        "outputId": "d1c3bb30-8feb-4c27-e2db-531fecc325c3"
      },
      "execution_count": null,
      "outputs": [
        {
          "output_type": "execute_result",
          "data": {
            "text/plain": [
              "array([[<matplotlib.axes._subplots.AxesSubplot object at 0x7f6d47c16b90>,\n",
              "        <matplotlib.axes._subplots.AxesSubplot object at 0x7f6d47bc6250>]],\n",
              "      dtype=object)"
            ]
          },
          "metadata": {},
          "execution_count": 15
        },
        {
          "output_type": "display_data",
          "data": {
            "text/plain": [
              "<Figure size 432x288 with 2 Axes>"
            ],
            "image/png": "[encoded data removed]"
          },
          "metadata": {
            "needs_background": "light"
          }
        }
      ]
    },
    {
      "cell_type": "code",
      "source": [
        "df[[\"Accounts Sent\",\"SQLs\"]].corr()"
      ],
      "metadata": {
        "colab": {
          "base_uri": "https://localhost:8080/",
          "height": 112
        },
        "id": "8WyotT_IO_sP",
        "outputId": "0f3710e4-17ff-467b-9c66-02ca520244a7"
      },
      "execution_count": null,
      "outputs": [
        {
          "output_type": "execute_result",
          "data": {
            "text/plain": [
              "               Accounts Sent      SQLs\n",
              "Accounts Sent       1.000000  0.690819\n",
              "SQLs                0.690819  1.000000"
            ],
            "text/html": [
              "\n",
              "  <div id=\"df-bb753310-2b7e-4470-92d6-3e5a3bd2705c\">\n",
              "    <div class=\"colab-df-container\">\n",
              "      <div>\n",
              "<style scoped>\n",
              "    .dataframe tbody tr th:only-of-type {\n",
              "        vertical-align: middle;\n",
              "    }\n",
              "\n",
              "    .dataframe tbody tr th {\n",
              "        vertical-align: top;\n",
              "    }\n",
              "\n",
              "    .dataframe thead th {\n",
              "        text-align: right;\n",
              "    }\n",
              "</style>\n",
              "<table border=\"1\" class=\"dataframe\">\n",
              "  <thead>\n",
              "    <tr style=\"text-align: right;\">\n",
              "      <th></th>\n",
              "      <th>Accounts Sent</th>\n",
              "      <th>SQLs</th>\n",
              "    </tr>\n",
              "  </thead>\n",
              "  <tbody>\n",
              "    <tr>\n",
              "      <th>Accounts Sent</th>\n",
              "      <td>1.000000</td>\n",
              "      <td>0.690819</td>\n",
              "    </tr>\n",
              "    <tr>\n",
              "      <th>SQLs</th>\n",
              "      <td>0.690819</td>\n",
              "      <td>1.000000</td>\n",
              "    </tr>\n",
              "  </tbody>\n",
              "</table>\n",
              "</div>\n",
              "      <button class=\"colab-df-convert\" onclick=\"convertToInteractive('df-bb753310-2b7e-4470-92d6-3e5a3bd2705c')\"\n",
              "              title=\"Convert this dataframe to an interactive table.\"\n",
              "              style=\"display:none;\">\n",
              "        \n",
              "  <svg xmlns=\"http://www.w3.org/2000/svg\" height=\"24px\"viewBox=\"0 0 24 24\"\n",
              "       width=\"24px\">\n",
              "    <path d=\"M0 0h24v24H0V0z\" fill=\"none\"/>\n",
              "    <path d=\"M18.56 5.44l.94 2.06.94-2.06 2.06-.94-2.06-.94-.94-2.06-.94 2.06-2.06.94zm-11 1L8.5 8.5l.94-2.06 2.06-.94-2.06-.94L8.5 2.5l-.94 2.06-2.06.94zm10 10l.94 2.06.94-2.06 2.06-.94-2.06-.94-.94-2.06-.94 2.06-2.06.94z\"/><path d=\"M17.41 7.96l-1.37-1.37c-.4-.4-.92-.59-1.43-.59-.52 0-1.04.2-1.43.59L10.3 9.45l-7.72 7.72c-.78.78-.78 2.05 0 2.83L4 21.41c.39.39.9.59 1.41.59.51 0 1.02-.2 1.41-.59l7.78-7.78 2.81-2.81c.8-.78.8-2.07 0-2.86zM5.41 20L4 18.59l7.72-7.72 1.47 1.35L5.41 20z\"/>\n",
              "  </svg>\n",
              "      </button>\n",
              "      \n",
              "  <style>\n",
              "    .colab-df-container {\n",
              "      display:flex;\n",
              "      flex-wrap:wrap;\n",
              "      gap: 12px;\n",
              "    }\n",
              "\n",
              "    .colab-df-convert {\n",
              "      background-color: #E8F0FE;\n",
              "      border: none;\n",
              "      border-radius: 50%;\n",
              "      cursor: pointer;\n",
              "      display: none;\n",
              "      fill: #1967D2;\n",
              "      height: 32px;\n",
              "      padding: 0 0 0 0;\n",
              "      width: 32px;\n",
              "    }\n",
              "\n",
              "    .colab-df-convert:hover {\n",
              "      background-color: #E2EBFA;\n",
              "      box-shadow: 0px 1px 2px rgba(60, 64, 67, 0.3), 0px 1px 3px 1px rgba(60, 64, 67, 0.15);\n",
              "      fill: #174EA6;\n",
              "    }\n",
              "\n",
              "    [theme=dark] .colab-df-convert {\n",
              "      background-color: #3B4455;\n",
              "      fill: #D2E3FC;\n",
              "    }\n",
              "\n",
              "    [theme=dark] .colab-df-convert:hover {\n",
              "      background-color: #434B5C;\n",
              "      box-shadow: 0px 1px 3px 1px rgba(0, 0, 0, 0.15);\n",
              "      filter: drop-shadow(0px 1px 2px rgba(0, 0, 0, 0.3));\n",
              "      fill: #FFFFFF;\n",
              "    }\n",
              "  </style>\n",
              "\n",
              "      <script>\n",
              "        const buttonEl =\n",
              "          document.querySelector('#df-bb753310-2b7e-4470-92d6-3e5a3bd2705c button.colab-df-convert');\n",
              "        buttonEl.style.display =\n",
              "          google.colab.kernel.accessAllowed ? 'block' : 'none';\n",
              "\n",
              "        async function convertToInteractive(key) {\n",
              "          const element = document.querySelector('#df-bb753310-2b7e-4470-92d6-3e5a3bd2705c');\n",
              "          const dataTable =\n",
              "            await google.colab.kernel.invokeFunction('convertToInteractive',\n",
              "                                                     [key], {});\n",
              "          if (!dataTable) return;\n",
              "\n",
              "          const docLinkHtml = 'Like what you see? Visit the ' +\n",
              "            '<a target=\"_blank\" href=https://colab.research.google.com/notebooks/data_table.ipynb>data table notebook</a>'\n",
              "            + ' to learn more about interactive tables.';\n",
              "          element.innerHTML = '';\n",
              "          dataTable['output_type'] = 'display_data';\n",
              "          await google.colab.output.renderOutput(dataTable, element);\n",
              "          const docLink = document.createElement('div');\n",
              "          docLink.innerHTML = docLinkHtml;\n",
              "          element.appendChild(docLink);\n",
              "        }\n",
              "      </script>\n",
              "    </div>\n",
              "  </div>\n",
              "  "
            ]
          },
          "metadata": {},
          "execution_count": 16
        }
      ]
    },
    {
      "cell_type": "code",
      "source": [
        "x=df[[\"SQLs\"]]\n",
        "x.head(1)\n",
        "\n",
        "y=df[[\"Accounts Sent\"]]\n",
        "y.head(1)\n",
        "\n",
        "plt.scatter(x, y)\n",
        "plt.title('Accounts Sent Vs SQL')\n",
        "plt.xlabel('SQLs')\n",
        "plt.ylabel('Accounts Sent')\n",
        "plt.show()"
      ],
      "metadata": {
        "colab": {
          "base_uri": "https://localhost:8080/",
          "height": 295
        },
        "id": "bxhKxG2DPGA9",
        "outputId": "b794114e-1d6d-4afc-c618-e9ed061ac486"
      },
      "execution_count": null,
      "outputs": [
        {
          "output_type": "display_data",
          "data": {
            "text/plain": [
              "<Figure size 432x288 with 1 Axes>"
            ],
            "image/png": "[encoded data removed]"
          },
          "metadata": {
            "needs_background": "light"
          }
        }
      ]
    },
    {
      "cell_type": "code",
      "source": [
        "from sklearn.linear_model import LinearRegression\n",
        "lin_reg=LinearRegression()\n",
        "lin_reg.fit(x,y)\n",
        "plt.scatter(x,y)\n",
        "plt.plot(x,lin_reg.predict(x),color='green')\n",
        "plt.title(\"Regression Model\")\n",
        "plt.xlabel(\"SQLs\")\n",
        "plt.ylabel(\"Accounts Sent\")"
      ],
      "metadata": {
        "colab": {
          "base_uri": "https://localhost:8080/",
          "height": 313
        },
        "id": "h3EoWP6rPpwP",
        "outputId": "193939a9-4f02-4f5f-c4ed-bae0cb67abe1"
      },
      "execution_count": null,
      "outputs": [
        {
          "output_type": "execute_result",
          "data": {
            "text/plain": [
              "Text(0, 0.5, 'Accounts Sent')"
            ]
          },
          "metadata": {},
          "execution_count": 30
        },
        {
          "output_type": "display_data",
          "data": {
            "text/plain": [
              "<Figure size 432x288 with 1 Axes>"
            ],
            "image/png": "[encoded data removed]"
          },
          "metadata": {
            "needs_background": "light"
          }
        }
      ]
    },
    {
      "cell_type": "code",
      "source": [
        "#predict Accounts Needed for 150 SQLs\n",
        "ypredict=lin_reg.predict(np.array([[150]]))\n",
        "ypredict"
      ],
      "metadata": {
        "colab": {
          "base_uri": "https://localhost:8080/"
        },
        "id": "8rBHxvkGQJ_A",
        "outputId": "389a79d6-b1e1-44d7-9f60-be55e6702c0f"
      },
      "execution_count": null,
      "outputs": [
        {
          "output_type": "stream",
          "name": "stderr",
          "text": [
            "/usr/local/lib/python3.7/dist-packages/sklearn/base.py:451: UserWarning: X does not have valid feature names, but LinearRegression was fitted with feature names\n",
            "  \"X does not have valid feature names, but\"\n"
          ]
        },
        {
          "output_type": "execute_result",
          "data": {
            "text/plain": [
              "array([[3780.99637599]])"
            ]
          },
          "metadata": {},
          "execution_count": 31
        }
      ]
    },
    {
      "cell_type": "code",
      "source": [
        "#slope\n",
        "lin_reg.coef_"
      ],
      "metadata": {
        "colab": {
          "base_uri": "https://localhost:8080/"
        },
        "id": "d22m4XF2QTk1",
        "outputId": "8f0cf776-7a37-4dfc-9b99-c065d9b08031"
      },
      "execution_count": null,
      "outputs": [
        {
          "output_type": "execute_result",
          "data": {
            "text/plain": [
              "array([[16.60613265]])"
            ]
          },
          "metadata": {},
          "execution_count": 32
        }
      ]
    },
    {
      "cell_type": "code",
      "source": [
        "#intecerpt\n",
        "lin_reg.intercept_"
      ],
      "metadata": {
        "colab": {
          "base_uri": "https://localhost:8080/"
        },
        "id": "6h36FB5QQu7F",
        "outputId": "dd8ce406-f454-4d12-87e8-fde245ef7e98"
      },
      "execution_count": null,
      "outputs": [
        {
          "output_type": "execute_result",
          "data": {
            "text/plain": [
              "array([1290.07647811])"
            ]
          },
          "metadata": {},
          "execution_count": 33
        }
      ]
    },
    {
      "cell_type": "markdown",
      "source": [
        "MSE: Distance of Errors from the Reg Line, smaller the better forecast\n",
        "\n",
        "RMSE: Sdv of the Errors, how spread out they are. Direct rel to the corr coef"
      ],
      "metadata": {
        "id": "xh-kmMTEdoGY"
      }
    },
    {
      "cell_type": "code",
      "source": [
        "ypredict=lin_reg.predict(x)\n",
        "\n",
        "from sklearn.metrics import mean_squared_error,r2_score,explained_variance_score\n",
        "print (\"Coefficient of determination :\",r2_score(y,ypredict))\n",
        "print (\"MSE: \",mean_squared_error(y,ypredict))\n",
        "print(\"RMSE: \",np.sqrt(mean_squared_error(y,ypredict)))"
      ],
      "metadata": {
        "colab": {
          "base_uri": "https://localhost:8080/"
        },
        "id": "gWRkxj59QyeL",
        "outputId": "57e3dc17-8b08-43b0-9e88-e0644a878b61"
      },
      "execution_count": null,
      "outputs": [
        {
          "output_type": "stream",
          "name": "stdout",
          "text": [
            "Coefficient of determination : 0.4772312569632916\n",
            "MSE:  163583.0320334609\n",
            "RMSE:  404.4539924805551\n"
          ]
        }
      ]
    }
  ]
}